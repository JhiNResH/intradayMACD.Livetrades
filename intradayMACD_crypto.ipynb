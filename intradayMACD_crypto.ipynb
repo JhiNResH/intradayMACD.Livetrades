{
 "cells": [
  {
   "cell_type": "code",
   "execution_count": 6,
   "metadata": {},
   "outputs": [],
   "source": [
    "from binance import Client\n",
    "import pandas as pd\n",
    "import ta"
   ]
  },
  {
   "cell_type": "code",
   "execution_count": 17,
   "metadata": {},
   "outputs": [],
   "source": [
    "%run ./Binance_Keys.ipynb\n",
    "client = Client(api_key,api_secret)"
   ]
  },
  {
   "cell_type": "code",
   "execution_count": 18,
   "metadata": {},
   "outputs": [],
   "source": [
    "from time import sleep\n",
    "from binance.exceptions import BinanceAPIException"
   ]
  },
  {
   "cell_type": "code",
   "execution_count": 19,
   "metadata": {},
   "outputs": [],
   "source": [
    "def getminutedata(symbol):\n",
    "    try:\n",
    "        df = pd.DataFrame(client.get_historical_klines(symbol, '1m', '40m UTC'))\n",
    "    except BinanceAPIException as e:\n",
    "        print(e)\n",
    "        sleep(60)\n",
    "        df = pd.DataFrame(client.get_historical_klines(symbol, '1m', '40m UTC'))\n",
    "    df = df.iloc[:,:6]\n",
    "    df.columns = ['Time','Open','High','Low','Close','Volume']\n",
    "    df = df.set_index('Time')\n",
    "    df.index = pd.to_datetime(df.index, unit='ms')\n",
    "    df = df.astype(float)\n",
    "    return df"
   ]
  },
  {
   "cell_type": "code",
   "execution_count": null,
   "metadata": {},
   "outputs": [],
   "source": [
    "def tradingstrat(symbol, qty, open_position = False):\n",
    "    while True:\n",
    "        df = getminutedata(symbol)\n",
    "        if not open_position:\n",
    "            if ta.trend.macd_diff(df.Close).isloc[-1] > 0 \\\n",
    "            and ta.trend.macd_diff(df.close).isloc[-2] < 0:\n",
    "                order = client.create_order(symbol=symbol,\n",
    "                                            side='BUY',\n",
    "                                            type='Market', quantity=qty)\n",
    "                print(order)\n",
    "                open_position = True\n",
    "                buyprice = order(['fills'][0]['price'])\n",
    "                break\n",
    "    if open_position:\n",
    "        while True:\n",
    "            df= getminutedata(symbol)\n",
    "            if ta.trend.macd_diff(df.Close).isloc[-1] < 0 \\\n",
    "            and ta.trend.macd_diff(df.close).isloc[-2] > 0:\n",
    "                order = client.create_order(symbol=symbol,\n",
    "                                            side='SELL',\n",
    "                                            type='Market', quantity=qty)\n",
    "                print(order)\n",
    "                sellprice = order(['fills'][0]['price'])\n",
    "                print(f'iprofit = {(sellprice - buyprice)/buyprice}')\n",
    "                open_position = False\n",
    "                break "
   ]
  },
  {
   "cell_type": "code",
   "execution_count": null,
   "metadata": {},
   "outputs": [],
   "source": [
    "while True:\n",
    "    tradingstrat('BTCUSDT',qty=0.1)"
   ]
  }
 ],
 "metadata": {
  "kernelspec": {
   "display_name": "base",
   "language": "python",
   "name": "python3"
  },
  "language_info": {
   "codemirror_mode": {
    "name": "ipython",
    "version": 3
   },
   "file_extension": ".py",
   "mimetype": "text/x-python",
   "name": "python",
   "nbconvert_exporter": "python",
   "pygments_lexer": "ipython3",
   "version": "3.9.13"
  },
  "orig_nbformat": 4
 },
 "nbformat": 4,
 "nbformat_minor": 2
}
